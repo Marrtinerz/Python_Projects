{
 "cells": [
  {
   "cell_type": "code",
   "execution_count": 1,
   "metadata": {},
   "outputs": [
    {
     "data": {
      "text/plain": [
       "int"
      ]
     },
     "execution_count": 1,
     "metadata": {},
     "output_type": "execute_result"
    }
   ],
   "source": [
    "type(4)"
   ]
  },
  {
   "cell_type": "code",
   "execution_count": 17,
   "metadata": {},
   "outputs": [
    {
     "name": "stdout",
     "output_type": "stream",
     "text": [
      "10\n",
      "203\n",
      "213\n"
     ]
    }
   ],
   "source": [
    "my_Variable = 10\n",
    "print(my_Variable)\n",
    "\n",
    "my_Variable = 203\n",
    "print(my_Variable)\n",
    "\n",
    "second_Variable = my_Variable + 10\n",
    "\n",
    "print(second_Variable)"
   ]
  },
  {
   "cell_type": "code",
   "execution_count": 49,
   "metadata": {},
   "outputs": [
    {
     "data": {
      "text/plain": [
       "['yeLLO is ', 'ery hard']"
      ]
     },
     "execution_count": 49,
     "metadata": {},
     "output_type": "execute_result"
    }
   ],
   "source": [
    "x = \"hello\"\n",
    "\n",
    "y = x.upper()\n",
    "\n",
    "z = y.replace(\"HE\",\"ye\")\n",
    "\n",
    "n = z + \" is very hard\"\n",
    "n.split(\"v\")"
   ]
  },
  {
   "cell_type": "code",
   "execution_count": 78,
   "metadata": {},
   "outputs": [
    {
     "name": "stdout",
     "output_type": "stream",
     "text": [
      "28\n",
      "<re.Match object; span=(7, 8), match=' '>\n"
     ]
    }
   ],
   "source": [
    "import re\n",
    "\n",
    "test_Variable = \"Jackson is a total 1234 fool\"\n",
    "\n",
    "pattern = r\"\"\n",
    "\n",
    "result = re.search(pattern, test_Variable)\n",
    "\n",
    "print(len(test_Variable))\n",
    "print(result)"
   ]
  }
 ],
 "metadata": {
  "kernelspec": {
   "display_name": "Rp_Env1",
   "language": "python",
   "name": "python3"
  },
  "language_info": {
   "codemirror_mode": {
    "name": "ipython",
    "version": 3
   },
   "file_extension": ".py",
   "mimetype": "text/x-python",
   "name": "python",
   "nbconvert_exporter": "python",
   "pygments_lexer": "ipython3",
   "version": "3.12.0"
  }
 },
 "nbformat": 4,
 "nbformat_minor": 2
}
