{
 "cells": [
  {
   "cell_type": "markdown",
   "metadata": {},
   "source": [
    "# Scenario: Car dealership's inventory management system"
   ]
  },
  {
   "cell_type": "markdown",
   "metadata": {},
   "source": [
    "## In this notebook, I experiment with classes and object instances in Python.\n",
    "\n",
    "### This Python program simulates a car dealership's inventory management system. The system aims to model cars and their attributes accurately."
   ]
  },
  {
   "cell_type": "code",
   "execution_count": 10,
   "metadata": {},
   "outputs": [],
   "source": [
    "# Class creation for the cars\n",
    "\n",
    "class Vehicle(object): \n",
    "    # The default color for all vehicles\n",
    "    Color = \"white\"\n",
    "    \n",
    "    #constructor\n",
    "    def __init__(self, max_speed, mileage):\n",
    "        self.max_speed = max_speed\n",
    "        self.mileage = mileage\n",
    " \n",
    "    # method for assigning seating capacity for every vehicle\n",
    "    def seating_capacity(self, seating_capacity):\n",
    "        self.seating_capacity = seating_capacity\n",
    "        return(seating_capacity)\n",
    "        \n",
    "    # method for displaying all the properties of an object of the class\n",
    "    def display_all_properties(self):\n",
    "        print(\"Properties of the vehicle\")\n",
    "        print(f\"The vehicle's color is {self.Color}\")\n",
    "        print(f\"The vehicle's maximum speed is {self.max_speed} kmph\")\n",
    "        print(f\"The vehicle's mileage is {self.mileage} kmpl\")\n",
    "        print(f\"The vehicle's seating capacity is {self.seating_capacity} individuals\")\n",
    "    \n",
    "    \n",
    "# End of class creation    \n",
    "    "
   ]
  },
  {
   "cell_type": "markdown",
   "metadata": {},
   "source": [
    "## Creation of objects based on the aforecreated class \n",
    "\n"
   ]
  },
  {
   "cell_type": "code",
   "execution_count": 20,
   "metadata": {},
   "outputs": [
    {
     "name": "stdout",
     "output_type": "stream",
     "text": [
      "Properties of the vehicle\n",
      "The vehicle's color is red\n",
      "The vehicle's maximum speed is 50 kmph\n",
      "The vehicle's mileage is 80 kmpl\n",
      "The vehicle's seating capacity is 90 individuals\n"
     ]
    }
   ],
   "source": [
    "# Vehicle 1 object entry\n",
    "\n",
    "Vehicle1 = Vehicle(input(\"Please enter the speed of the car\"), input(\"Please enter the mileage of the car\"))\n",
    "\n",
    "# Adding the seating capacity using the seating_capacity method\n",
    "Vehicle1.seating_capacity(input(\"How many people can the vehicle carry?\"))\n",
    "\n",
    "# Entering the color of Vehicle 1\n",
    "Vehicle1.Color = input(\"What is the color of the car?\")\n",
    "\n",
    "#displaying all properties of Vehicle 1\n",
    "Vehicle1.display_all_properties()"
   ]
  },
  {
   "cell_type": "markdown",
   "metadata": {},
   "source": [
    "## The end of this basic program"
   ]
  }
 ],
 "metadata": {
  "kernelspec": {
   "display_name": "Rp_Env1",
   "language": "python",
   "name": "python3"
  },
  "language_info": {
   "codemirror_mode": {
    "name": "ipython",
    "version": 3
   },
   "file_extension": ".py",
   "mimetype": "text/x-python",
   "name": "python",
   "nbconvert_exporter": "python",
   "pygments_lexer": "ipython3",
   "version": "3.12.0"
  }
 },
 "nbformat": 4,
 "nbformat_minor": 2
}
